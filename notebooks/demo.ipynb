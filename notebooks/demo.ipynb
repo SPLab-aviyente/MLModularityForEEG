{
 "cells": [
  {
   "attachments": {},
   "cell_type": "markdown",
   "metadata": {},
   "source": [
    "### Import and Setups"
   ]
  },
  {
   "cell_type": "code",
   "execution_count": 25,
   "metadata": {},
   "outputs": [],
   "source": [
    "from pathlib import Path\n",
    "\n",
    "import numpy as np\n",
    "\n",
    "import project_path\n",
    "from src.mlgraph import MLGraph\n",
    "from src.commdetect import modularity, scml\n",
    "from src import surrogates\n",
    "\n",
    "from IPython.display import clear_output\n",
    "\n",
    "PROJECT_DIR = Path(\"..\")\n",
    "DATA_DIR = Path(PROJECT_DIR, \"data\", \"random\")"
   ]
  },
  {
   "attachments": {},
   "cell_type": "markdown",
   "metadata": {},
   "source": [
    "### Load Data\n",
    "\n",
    "We start with loading data. Since EEG data used in the paper is private, we use\n",
    "simulated multilayer networks generated randomly. \n",
    " \n",
    "\n",
    "In particular, there are 5 multilayer networks with 4 layers and there are 64\n",
    "nodes at each layer, similar to EEG networks analyzed in the paper. The network\n",
    "are fully connected and edge weights are drawn randomly from a uniform\n",
    "distribution. They don't have any ground truth community structure; so, these\n",
    "networks are only used to illustrate how the proposed pipeline can be used.\n",
    "Results obtained from them are not related to conclusions made in the paper. "
   ]
  },
  {
   "cell_type": "code",
   "execution_count": 6,
   "metadata": {},
   "outputs": [],
   "source": [
    "graphs = []\n",
    "for s in range(5):\n",
    "    G = MLGraph()\n",
    "    G.read_from_gml(Path(DATA_DIR, f\"net_{s+1}.gml\"))\n",
    "    graphs.append(G)"
   ]
  },
  {
   "attachments": {},
   "cell_type": "markdown",
   "metadata": {},
   "source": [
    "The pipeline requires multilayer graphs to be\n",
    "[`MLGraph`](../src/mlgraph/__init__.py) objects, which is a composite class that\n",
    "aims to extend `igraph` to hold multilayer networks. See class definitions for\n",
    "details of the class. We used `read_from_gml` method of `MLGraph` class to read\n",
    "a multilayer graph from a `.gml` file (in this case a zipped GML file)."
   ]
  },
  {
   "attachments": {},
   "cell_type": "markdown",
   "metadata": {},
   "source": [
    "### Find community structures\n",
    "\n",
    "Once 5 graphs are loaded, we find community structure of each network separately\n",
    "using the proposed multilayer modularity. We will fix resolution parameter and \n",
    "interlayer scale to 1 and discussion on how their optimal value can be found is\n",
    "given later.\n",
    "\n",
    "Maximization of multilayer modularity can be performed as follows:"
   ]
  },
  {
   "cell_type": "code",
   "execution_count": 7,
   "metadata": {},
   "outputs": [],
   "source": [
    "gamma = 1\n",
    "omega = 1\n",
    "n_runs = 10 # number of times to run modularity maximization\n",
    "\n",
    "comms = [] # We will save community structures of each network \n",
    "mods = [] # Also modularity values of found community structures\n",
    "for s, G in enumerate(graphs):\n",
    "    A = G.supra_adjacency(weight=\"weight\")\n",
    "    P = modularity.ml_null_matrix(A, G.layers)\n",
    "    comms.append(modularity.find_ml_communities(A, P, gamma, omega, n_runs))\n",
    "    mods = modularity.ml_modularity_value(comms[-1], A, P, gamma, omega)"
   ]
  },
  {
   "attachments": {},
   "cell_type": "markdown",
   "metadata": {},
   "source": [
    "For each network, we first get its supra-adjacency matrix and null matrix of \n",
    "the proposed modularity function. The null matrix is constructed using \n",
    "`ml_null_matrix` function defined under \n",
    "[`modularity`](../src/commdetect/modularity/) module. These two matrices are \n",
    "then given to `find_ml_communities` function, which optimizes the proposed \n",
    "multilayer modularity. Modularity maximization is run 10 times (in the paper,\n",
    "number of runs is 100). We then calculated multilayer modularity values of the \n",
    "found community structures. "
   ]
  },
  {
   "attachments": {},
   "cell_type": "markdown",
   "metadata": {},
   "source": [
    "### Surrogate data generation\n",
    "\n",
    "Resolution parameter and interlayer scales are choosen by comparing modularity\n",
    "values of community structures of the observed multilayer networks to those of \n",
    "the surrogate networks. For this, we need to generate surrogate networks from \n",
    "observed multilayer network as follows:"
   ]
  },
  {
   "cell_type": "code",
   "execution_count": 14,
   "metadata": {},
   "outputs": [
    {
     "name": "stdout",
     "output_type": "stream",
     "text": [
      "20.00% is done.\n",
      "40.00% is done.\n",
      "60.00% is done.\n",
      "80.00% is done.\n",
      "100.00% is done.\n"
     ]
    }
   ],
   "source": [
    "surr_nets = []\n",
    "n_surrogates = 10 # number of surrogates network to generate\n",
    "for s in range(5):\n",
    "    surr_nets.append([])\n",
    "    for n in range(n_surrogates):\n",
    "        surr_nets[-1].append(surrogates.weight_preserved(\n",
    "            graphs[s], weight=\"weight\", preserve_layer=True\n",
    "        ))\n",
    "\n",
    "    print(f\"{(s+1)/5*100:.2f}% is done.\")"
   ]
  },
  {
   "attachments": {},
   "cell_type": "markdown",
   "metadata": {},
   "source": [
    "`surrogates.weight_preserved` function can be used to generate surrogates. We \n",
    "generated 10 surrogates for each network being analyzed. \n",
    "\n",
    "We need to find communities of surrogates networks at the same resolution \n",
    "parameter and interlayer scale values."
   ]
  },
  {
   "cell_type": "code",
   "execution_count": 15,
   "metadata": {},
   "outputs": [],
   "source": [
    "gamma = 1\n",
    "omega = 1\n",
    "\n",
    "surr_mods = [] # Also modularity values of found community structures\n",
    "for s in range(5):\n",
    "    surr_mods.append([])\n",
    "    for n in range(n_surrogates): \n",
    "        A = surr_nets[s][n].supra_adjacency(weight=\"weight\")\n",
    "        P = modularity.ml_null_matrix(A, surr_nets[s][n].layers)\n",
    "        surr_comms = modularity.find_ml_communities(A, P, gamma, omega, 1)\n",
    "        surr_mods[s].append(\n",
    "            modularity.ml_modularity_value(surr_comms, A, P, gamma, omega)\n",
    "        )"
   ]
  },
  {
   "attachments": {},
   "cell_type": "markdown",
   "metadata": {},
   "source": [
    "Multilayer modularity values of these community structure are then used to\n",
    "determine optimal resolution parameter and interlayer scale. We will skip this\n",
    "step, as we fixed their values. However, community structures of observed and\n",
    "surrogate networks can be found for different values as described in the paper."
   ]
  },
  {
   "attachments": {},
   "cell_type": "markdown",
   "metadata": {},
   "source": [
    "### Group community structure\n",
    "\n",
    "Given community structures of multiple related multilayer networks, we can find\n",
    "a group community structure, summarizing their shared community structure. For \n",
    "this, we first find co-clustering matrix for each multilayer network. These \n",
    "co-clustering matrices are then used as layer of multiplex network. SCML is then \n",
    "applied to the constructed multiplex network to find group community structure."
   ]
  },
  {
   "cell_type": "code",
   "execution_count": 29,
   "metadata": {},
   "outputs": [],
   "source": [
    "mx = []\n",
    "n_comms = []\n",
    "for s in range(5):\n",
    "    mx.append(modularity.coclustering_matrix(comms[s]))\n",
    "    mx[-1] = mx[-1]/np.max(mx[-1])\n",
    "    mx[-1][np.diag_indices_from(mx[-1])] = 0\n",
    "\n",
    "    # SCML requires number of communities, which will be determined as the \n",
    "    # average of number of communities in the community structure used to \n",
    "    # construct co-clustering matrices\n",
    "    for i in range(10):\n",
    "        n_comms.append(len(np.unique(comms[s][:, i])))\n",
    "\n",
    "n_comms = round(np.mean(n_comms))"
   ]
  },
  {
   "attachments": {},
   "cell_type": "markdown",
   "metadata": {},
   "source": [
    "Finally, we find the group community structure."
   ]
  },
  {
   "cell_type": "code",
   "execution_count": 31,
   "metadata": {},
   "outputs": [],
   "source": [
    "c_group = scml.run(mx, n_comms)"
   ]
  }
 ],
 "metadata": {
  "kernelspec": {
   "display_name": "mlmodularity",
   "language": "python",
   "name": "python3"
  },
  "language_info": {
   "codemirror_mode": {
    "name": "ipython",
    "version": 3
   },
   "file_extension": ".py",
   "mimetype": "text/x-python",
   "name": "python",
   "nbconvert_exporter": "python",
   "pygments_lexer": "ipython3",
   "version": "3.10.11"
  },
  "orig_nbformat": 4
 },
 "nbformat": 4,
 "nbformat_minor": 2
}
